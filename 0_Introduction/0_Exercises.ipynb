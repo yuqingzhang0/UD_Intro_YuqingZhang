{
 "cells": [
  {
   "cell_type": "markdown",
   "id": "529d91ae",
   "metadata": {},
   "source": [
    "# Exercise 00\n",
    "Write a bit of code that prints _Introduction to Programming_ to the console and execute the cell"
   ]
  },
  {
   "cell_type": "code",
   "execution_count": 16,
   "id": "98711beb",
   "metadata": {},
   "outputs": [
    {
     "name": "stdout",
     "output_type": "stream",
     "text": [
      "Introduction to Programming\n"
     ]
    }
   ],
   "source": [
    "print('Introduction to Programming')"
   ]
  },
  {
   "cell_type": "markdown",
   "id": "63ad5023",
   "metadata": {},
   "source": [
    "-----------------------------------------------------------------------------\n",
    "# Exercise 01\n",
    "Hello World is traditionally the first program anyone writes. It is\n",
    "very simple and the only thing it should do is print Hello World! to the\n",
    "terminal window.\n",
    "Create a file called HelloWorld.py and edit the contents so it prints Hello World! to the terminal and execute it using the command line."
   ]
  },
  {
   "cell_type": "markdown",
   "id": "a4a7c4c2",
   "metadata": {},
   "source": [
    "-----------------------------------------------------------------------------\n",
    "# Exercise 02\n",
    "Write some code to print your name, email, and age on separate lines. For each element first assign it to a variable and use the variable to print. \n",
    "\n",
    "Bonus: try to create the print statement for all variable in one line of code. (hint: '\\n' is the character for a new line)"
   ]
  },
  {
   "cell_type": "code",
   "execution_count": 15,
   "id": "fc8fface",
   "metadata": {},
   "outputs": [
    {
     "name": "stdout",
     "output_type": "stream",
     "text": [
      "Yuqing Zhang\n",
      "ucbvy23@ucl.ac.uk\n",
      "22\n"
     ]
    }
   ],
   "source": [
    "myname = 'Yuqing Zhang'\n",
    "email = 'ucbvy23@ucl.ac.uk'\n",
    "age = '22'\n",
    "print (myname)\n",
    "print (email)\n",
    "print (age)"
   ]
  },
  {
   "cell_type": "code",
   "execution_count": 14,
   "id": "dd4e3d45",
   "metadata": {},
   "outputs": [
    {
     "name": "stdout",
     "output_type": "stream",
     "text": [
      "Yuqing Zhang\n",
      "ucbvy23@ucl.ac.uk\n",
      "22\n"
     ]
    }
   ],
   "source": [
    "myname = 'Yuqing Zhang'\n",
    "email = 'ucbvy23@ucl.ac.uk'\n",
    "age = '22'\n",
    "print(f\"{myname}\\n{email}\\n{age}\")"
   ]
  },
  {
   "cell_type": "markdown",
   "id": "0dd1c1d1",
   "metadata": {},
   "source": [
    "-----------------------------------------------------------------------------\n",
    "# Exercise 03\n",
    "Print the numbers 0, 178, -21, 2938 divided by 49, 436 multiplied with 9948 and 12 to the power of 20\n",
    "\n",
    "(Hint: Look up the documentation of basic arithmetic operators)"
   ]
  },
  {
   "cell_type": "code",
   "execution_count": 12,
   "id": "f3d5d009",
   "metadata": {},
   "outputs": [
    {
     "name": "stdout",
     "output_type": "stream",
     "text": [
      "0.0\n",
      "3.63265306122449\n",
      "-0.42857142857142855\n",
      "59.95918367346939\n",
      "4337328\n",
      "3833759992447475122176\n"
     ]
    }
   ],
   "source": [
    "n1 = 0\n",
    "n2 = 178\n",
    "n3 = -21\n",
    "n4 = 2938\n",
    "N1 = n1/49\n",
    "N2 = n2/49\n",
    "N3 = n3/49\n",
    "N4 = n4/49\n",
    "N5 = 436*9948\n",
    "N6 = 12**20\n",
    "print (f\"{N1}\\n{N2}\\n{N3}\\n{N4}\\n{N5}\\n{N6}\")"
   ]
  },
  {
   "cell_type": "markdown",
   "id": "1f151455",
   "metadata": {},
   "source": [
    "-----------------------------------------------------------------------------\n",
    "# Exercise 04\n",
    "Print sin(200), cos(100), tan($\\pi$/4)\n",
    "\n",
    "(Hint: Look up for how to use trigonometric function, and how to get the value of $\\pi$.)"
   ]
  },
  {
   "cell_type": "code",
   "execution_count": 13,
   "id": "d0e37690",
   "metadata": {},
   "outputs": [
    {
     "name": "stdout",
     "output_type": "stream",
     "text": [
      "-0.8732972972139946\n",
      "0.8623188722876839\n",
      "0.9999999999999999\n"
     ]
    }
   ],
   "source": [
    "import math\n",
    "math.pi\n",
    "N1 = math.sin(200)\n",
    "N2 = math.cos(100)\n",
    "N3 = math.tan(math.pi/4)\n",
    "print (f\"{N1}\\n{N2}\\n{N3}\")"
   ]
  },
  {
   "cell_type": "markdown",
   "id": "9d026820",
   "metadata": {},
   "source": [
    "-----------------------------------------------------------------------------\n",
    "# Exercise 05\n",
    "Write a program to read your first and last names from the console seperately, and then print them on the console together, separated by a space."
   ]
  },
  {
   "cell_type": "code",
   "execution_count": 10,
   "id": "4c7217e0",
   "metadata": {},
   "outputs": [
    {
     "name": "stdout",
     "output_type": "stream",
     "text": [
      "my first name: Yuqing\n",
      "my last name: Zhang\n",
      "Yuqing Zhang\n"
     ]
    }
   ],
   "source": [
    "firstname = input ('my first name: ')\n",
    "lastname = input ('my last name: ')\n",
    "fullname = str(firstname)+' '+str(lastname)\n",
    "print (fullname)"
   ]
  },
  {
   "cell_type": "markdown",
   "id": "e83fa346",
   "metadata": {},
   "source": [
    "-----------------------------------------------------------------------------\n",
    "# Exercise 06\n",
    "Write a program that determines whether a number given as user input is positive or negative\n",
    " \n",
    "You will need to convert the console input from a string to a number first!"
   ]
  },
  {
   "cell_type": "code",
   "execution_count": 9,
   "id": "ecd924c2",
   "metadata": {},
   "outputs": [
    {
     "name": "stdout",
     "output_type": "stream",
     "text": [
      "enter a number: 10\n",
      "the number is positive\n"
     ]
    }
   ],
   "source": [
    "user_input = input ('enter a number: ')\n",
    "number = float(user_input)\n",
    "if (number > 0):\n",
    "    print ('the number is positive')\n",
    "elif (number < 0):\n",
    "    print ('the number is negative')\n",
    "else:\n",
    "    print ('the number is zero')"
   ]
  },
  {
   "cell_type": "markdown",
   "id": "2a192596",
   "metadata": {},
   "source": [
    "-----------------------------------------------------------------------------\n",
    "# Exercise 07\n",
    "Write a program that picks a random number between 1-20 and makes the user guess until they get the number right. Then print a congratulations message\n",
    "- (Find out yourself how to generate a random integer)\n",
    "- Bonus: make the user choose the range within which they have to guess\n",
    "- Bonus: keep track of how many guesses were made and print this at the end"
   ]
  },
  {
   "cell_type": "code",
   "execution_count": 5,
   "id": "70358dd3",
   "metadata": {},
   "outputs": [
    {
     "name": "stdout",
     "output_type": "stream",
     "text": [
      "Enter the minimum range number: 1\n",
      "Enter the maximum range number: 20\n",
      "Guess the number between 1 and 20: 10\n",
      "The number is greater than you have input.\n",
      "Guess the number between 1 and 20: 15\n",
      "The number is greater than you have input.\n",
      "Guess the number between 1 and 20: 18\n",
      "Congratulations.The number is 18.\n",
      "You guessed the number for 3 times.\n"
     ]
    }
   ],
   "source": [
    "import random\n",
    "min_number = int(input(\"Enter the minimum range number: \"))\n",
    "max_number = int(input(\"Enter the maximum range number: \"))\n",
    "random_numbers = int(random.randint(int(min_number),int(max_number)))\n",
    "user_input = None\n",
    "num_guess = 0\n",
    "while (user_input) != (random_numbers):\n",
    "    try:\n",
    "        user_input = int(input(\"Guess the number between\"+ \" \"+ str(min_number)+ \" and \" + str(max_number) +': '))\n",
    "        num_guess +=1\n",
    "        if (user_input) < (random_numbers):\n",
    "            print (\"The number is greater than you have input.\")\n",
    "        elif (user_input) > (random_numbers):\n",
    "            print(\"The number is less than you have input. \")\n",
    "        elif (user_input) == (random_numbers):\n",
    "            print(\"Congratulations.\" + \"The number is\" +\" \"+ str(random_numbers) + \".\")\n",
    "            print(\"You guessed the number for\" + \" \" + str(num_guess) + \" times.\")\n",
    "    except Valueerrors:\n",
    "        print(\"Invalid values. Enter a valid number: \")"
   ]
  },
  {
   "cell_type": "markdown",
   "id": "d53b9c07",
   "metadata": {},
   "source": [
    "-----------------------------------------------------------------------------\n",
    "# Exercise 08\n",
    "Ask a sentence as input, then print the words in alphabetical order.\n",
    "Hint: look up how to split up a string"
   ]
  },
  {
   "cell_type": "code",
   "execution_count": 6,
   "id": "b6524cf5",
   "metadata": {},
   "outputs": [
    {
     "name": "stdout",
     "output_type": "stream",
     "text": [
      "Enter a sentence: I am in London now\n",
      "Words in alphabetical order:['am', 'i', 'in', 'london', 'now']\n"
     ]
    }
   ],
   "source": [
    "sentence = str(input ('Enter a sentence: '))\n",
    "sentence_lower = sentence.lower( )\n",
    "word1 = sentence_lower.split( )\n",
    "ordered_words = sorted(word1)\n",
    "print (\"Words in alphabetical order:\" + str(ordered_words))"
   ]
  },
  {
   "cell_type": "markdown",
   "id": "09a7b060",
   "metadata": {},
   "source": [
    "-----------------------------------------------------------------------------\n",
    "# Exercise 09\n",
    "Write a program using for loops to print a christmas tree of x lines high\n",
    "specified by the user.\n",
    "(use for loops)\n",
    "so for instance, a chrismas tree of 4 high should looks like this:\n",
    "\n",
    "```\n",
    "\n",
    "    *\n",
    "   ***\n",
    "  *****\n",
    " *******\n",
    "    |\n",
    "\n",
    "```\n",
    "\n",
    "hint: first combine strings into a variable before printing"
   ]
  },
  {
   "cell_type": "code",
   "execution_count": 7,
   "id": "5150f7a4",
   "metadata": {},
   "outputs": [
    {
     "name": "stdout",
     "output_type": "stream",
     "text": [
      "Enter the height of the christmas tree that you want: 6\n",
      "     *     \n",
      "    ***    \n",
      "   *****   \n",
      "  *******  \n",
      " ********* \n",
      "***********\n",
      "     |     \n"
     ]
    }
   ],
   "source": [
    "lines = input (\"Enter the height of the christmas tree that you want: \")\n",
    "for x in range(1,int(lines)+1):\n",
    "    print ((int(lines)-x)*' ' + (2*x-1)*'*'+ (int(lines)-x)*' ')\n",
    "print ((int(lines)-1)*\" \" + \"|\" + (int(lines)-1)*\" \")"
   ]
  },
  {
   "cell_type": "markdown",
   "id": "07f67531",
   "metadata": {},
   "source": [
    "-----------------------------------------------------------------------------\n",
    "# Exercise 10\n",
    "Write a piece of code that prints the first $n$ numbers of the padovan sequence"
   ]
  },
  {
   "cell_type": "code",
   "execution_count": 8,
   "id": "d301c61b",
   "metadata": {},
   "outputs": [
    {
     "name": "stdout",
     "output_type": "stream",
     "text": [
      "Enter the numbers of the padoven sequence: 15\n",
      "1\n",
      "1\n",
      "1\n",
      "2\n",
      "2\n",
      "3\n",
      "4\n",
      "5\n",
      "7\n",
      "9\n",
      "12\n",
      "16\n",
      "21\n",
      "28\n",
      "37\n"
     ]
    }
   ],
   "source": [
    "N = int(input ('Enter the numbers of the padoven sequence: '))\n",
    "n1 = 1\n",
    "n2 = 1\n",
    "n3 = 1\n",
    "if N in range (4):\n",
    "    if N == 1:\n",
    "        print (\"1\")\n",
    "    elif N == 2:\n",
    "        print (f'{n1}\\n{n2}')\n",
    "else:\n",
    "    print (f'{n1}\\n{n2}\\n{n3}')\n",
    "for i in range(3,N):\n",
    "    i = n1 + n2\n",
    "    n1 = n2\n",
    "    n2 = n3\n",
    "    n3 = i\n",
    "    print (i)"
   ]
  },
  {
   "cell_type": "code",
   "execution_count": null,
   "id": "addc6b86",
   "metadata": {},
   "outputs": [],
   "source": []
  }
 ],
 "metadata": {
  "kernelspec": {
   "display_name": "Python 3 (ipykernel)",
   "language": "python",
   "name": "python3"
  },
  "language_info": {
   "codemirror_mode": {
    "name": "ipython",
    "version": 3
   },
   "file_extension": ".py",
   "mimetype": "text/x-python",
   "name": "python",
   "nbconvert_exporter": "python",
   "pygments_lexer": "ipython3",
   "version": "3.11.5"
  }
 },
 "nbformat": 4,
 "nbformat_minor": 5
}
