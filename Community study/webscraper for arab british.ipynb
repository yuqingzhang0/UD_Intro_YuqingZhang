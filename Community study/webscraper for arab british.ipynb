{
 "cells": [
  {
   "cell_type": "code",
   "execution_count": null,
   "id": "3b7d3e9a",
   "metadata": {},
   "outputs": [],
   "source": [
    "from selenium import webdriver\n",
    "from selenium.webdriver.common.by import By\n",
    "from selenium.webdriver.common.keys import Keys\n",
    "from selenium.webdriver.support.ui import Select\n",
    "from selenium.webdriver.chrome.options import Options\n",
    "import time\n",
    "from bs4 import BeautifulSoup\n",
    "import os\n",
    "from time import sleep\n",
    "\n",
    "chromedriver = r\"C:\\Users\\zyq\\ladybug_tools\\python\\Scripts\\chromedriver.exe\"\n",
    "\n",
    "url = \"https://www.arabbritishcentre.org.uk/media/\"\n",
    "title_list = []\n",
    "brief_list = []\n",
    "\n",
    "driver = webdriver.Chrome()\n",
    "driver.get(url)\n",
    "sleep(5)\n",
    "\n",
    "n = 1\n",
    "for n in range(26):\n",
    "    # Get results for the first page\n",
    "    results= driver.find_elements('xpath','//*[@id=\"main\"]/div')\n",
    "    print (len(results))\n",
    "    results_title = results[0].find_elements('class name','marbot5')\n",
    "    print (len(results_title))\n",
    "    print (results_title)\n",
    "    i = 0\n",
    "    for i in range(len(results_title)):\n",
    "        title = results_title[i].find_element('class name','button').text\n",
    "        brief = results_title[i].find_element(\"xpath\",\"following-sibling::p[1]\").text\n",
    "        i += 1\n",
    "        print (title)\n",
    "        print (brief)\n",
    "        title_list.append(title)\n",
    "        brief_list.append(brief)\n",
    "        sleep(5)\n",
    "\n",
    "    # Press the next button\n",
    "    driver.find_element(\"xpath\",\"//*[@id='main']/div/div[11]/div/ul/li[last()]/a\").click()\n",
    "    sleep(5)\n",
    "\n",
    "import csv\n",
    "\n",
    "data = zip(title_list,brief_list,link_list)\n",
    "\n",
    "with open('abaricbritish.csv','w',encoding = 'utf-8') as csvfile:\n",
    "    writer = csv.writer(csvfile)\n",
    "    for row in data:\n",
    "        writer.writerow(row)\n",
    "    \n"
   ]
  },
  {
   "cell_type": "code",
   "execution_count": null,
   "id": "ec46b41d",
   "metadata": {},
   "outputs": [],
   "source": []
  },
  {
   "cell_type": "code",
   "execution_count": null,
   "id": "6ede45bf",
   "metadata": {},
   "outputs": [],
   "source": []
  }
 ],
 "metadata": {
  "kernelspec": {
   "display_name": "Python 3 (ipykernel)",
   "language": "python",
   "name": "python3"
  },
  "language_info": {
   "codemirror_mode": {
    "name": "ipython",
    "version": 3
   },
   "file_extension": ".py",
   "mimetype": "text/x-python",
   "name": "python",
   "nbconvert_exporter": "python",
   "pygments_lexer": "ipython3",
   "version": "3.11.5"
  }
 },
 "nbformat": 4,
 "nbformat_minor": 5
}
