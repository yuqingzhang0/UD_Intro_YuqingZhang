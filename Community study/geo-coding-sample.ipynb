{
 "cells": [
  {
   "cell_type": "code",
   "execution_count": null,
   "id": "d795c6f5",
   "metadata": {},
   "outputs": [],
   "source": [
    "import requests\n",
    "\n",
    "# Your Google Maps Geocoding API key\n",
    "api_key = \"YOUR_API_KEY\"\n",
    "\n",
    "# List of place names you want to geocode\n",
    "place_names = [\"New York, USA\", \"Paris, France\", \"London, UK\"]\n",
    "\n",
    "# Initialize a list to store the results\n",
    "results = []\n",
    "\n",
    "# Function to geocode a place name\n",
    "def geocode_place_name(place_name):\n",
    "    base_url = \"https://maps.googleapis.com/maps/api/geocode/json\"\n",
    "    params = {\n",
    "        \"address\": place_name,\n",
    "        \"key\": api_key\n",
    "    }\n",
    "    \n",
    "    response = requests.get(base_url, params=params)\n",
    "    data = response.json()\n",
    "    \n",
    "    if data[\"status\"] == \"OK\":\n",
    "        location = data[\"results\"][0][\"geometry\"][\"location\"]\n",
    "        return location\n",
    "    else:\n",
    "        return None\n",
    "\n",
    "# Geocode each place name and store the results\n",
    "for place_name in place_names:\n",
    "    result = geocode_place_name(place_name)\n",
    "    if result:\n",
    "        results.append(result)\n",
    "    else:\n",
    "        results.append({\"lat\": None, \"lng\": None})\n",
    "\n",
    "# Print the results (latitude and longitude)\n",
    "for i, result in enumerate(results):\n",
    "    print(f\"Place: {place_names[i]}, Latitude: {result['lat']}, Longitude: {result['lng']}\")"
   ]
  }
 ],
 "metadata": {
  "kernelspec": {
   "display_name": "Python 3 (ipykernel)",
   "language": "python",
   "name": "python3"
  },
  "language_info": {
   "codemirror_mode": {
    "name": "ipython",
    "version": 3
   },
   "file_extension": ".py",
   "mimetype": "text/x-python",
   "name": "python",
   "nbconvert_exporter": "python",
   "pygments_lexer": "ipython3",
   "version": "3.11.5"
  }
 },
 "nbformat": 4,
 "nbformat_minor": 5
}
