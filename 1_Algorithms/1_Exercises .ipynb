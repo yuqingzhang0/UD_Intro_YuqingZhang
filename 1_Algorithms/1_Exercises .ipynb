{
 "cells": [
  {
   "cell_type": "markdown",
   "id": "38e188a5",
   "metadata": {},
   "source": [
    "# Exercise 00\n",
    "Write a piece of code that allocates a list of 20 integers and initializes each element by its index multiplied by 5. Print the result."
   ]
  },
  {
   "cell_type": "code",
   "execution_count": 1,
   "id": "01aa4f35",
   "metadata": {},
   "outputs": [
    {
     "name": "stdout",
     "output_type": "stream",
     "text": [
      "[0, 5, 10, 15, 20, 25, 30, 35, 40, 45, 50, 55, 60, 65, 70, 75, 80, 85, 90, 95]\n"
     ]
    }
   ],
   "source": [
    "mylist =[ ]\n",
    "for i in range (20):\n",
    "    mylist.append(i*5)\n",
    "print (mylist)\n",
    "    "
   ]
  },
  {
   "cell_type": "markdown",
   "id": "529d91ae",
   "metadata": {},
   "source": [
    "# Exercise 01\n",
    "Define a function that takes an integer as input, prints  all integers that it is divisable by, and returns the largest one."
   ]
  },
  {
   "cell_type": "code",
   "execution_count": 2,
   "id": "30e79132",
   "metadata": {},
   "outputs": [
    {
     "name": "stdout",
     "output_type": "stream",
     "text": [
      "Input an integer: 54\n",
      "1\n",
      "2\n",
      "3\n",
      "6\n",
      "9\n",
      "18\n",
      "27\n",
      "27 is the largest divider.\n"
     ]
    }
   ],
   "source": [
    "number = int(input(\"Input an integer: \"))\n",
    "def dividers(number):\n",
    "    result = 1\n",
    "    for i in range(1,int((number/2)+1)):\n",
    "        if number%i == 0:\n",
    "            result = i\n",
    "            print (i)\n",
    "    return result\n",
    "dividers = (dividers(number))\n",
    "print (f\"{dividers} is the largest divider.\")"
   ]
  },
  {
   "cell_type": "markdown",
   "id": "cfbe30d4",
   "metadata": {},
   "source": [
    "# Exercise 02\n",
    "- create a dictionary with 6 keys and values of your choice\n",
    "- write a function that takes a dictionary and a value as input and returns whether the value occurs as a key in the dictionary\n",
    "- write a function that takes a dictionary as input, and returns the dictionary but the keys are swapped with their values (resolve the issue if a value occurs twice!)"
   ]
  },
  {
   "cell_type": "code",
   "execution_count": 3,
   "id": "2123f1c6",
   "metadata": {},
   "outputs": [
    {
     "name": "stdout",
     "output_type": "stream",
     "text": [
      "Enter the dictionary you want to search: mydict\n",
      "Enter the value you want to search: nind\n",
      "nind doesn't occur as a key in the dictionary.\n"
     ]
    }
   ],
   "source": [
    "#create a dictionary with 6 keys & values#\n",
    "mydict = {'Name':'Banana','Day':'3','Number':'5','Colour':'Yellow','Price':'4','Weight':'6 kilos'}\n",
    "#check value existance as a key Method 3 #\n",
    "def value_in_check(dictionary,value):\n",
    "    return dictionary.get(value) # check #\n",
    "dict_input = input (\"Enter the dictionary you want to search: \")\n",
    "value_input = input (\"Enter the value you want to search: \")\n",
    "result=value_in_check(eval(dict_input),value_input)\n",
    "if result == None:\n",
    "    print (f\"{value_input} doesn't occur as a key in the dictionary.\")\n",
    "else:\n",
    "    print (f\"{value_input} occurs as a key in the dictionary. \")"
   ]
  },
  {
   "cell_type": "code",
   "execution_count": 4,
   "id": "e94d4b03",
   "metadata": {},
   "outputs": [
    {
     "name": "stdout",
     "output_type": "stream",
     "text": [
      "{'Banana': 'Name', '3': 'Day', '5': 'Number', 'Yellow': 'Colour', '4': 'Price', '6 kilos': 'Weight'}\n"
     ]
    }
   ],
   "source": [
    "#generate a reverse dictionary Method 2 #\n",
    "mydict = {'Name':'Banana','Day':'3','Number':'5','Colour':'Yellow','Price':'4','Weight':'6 kilos'}\n",
    "def dict_reverse(dictionary):\n",
    "    dict_reverse_result = {}\n",
    "    for key,value in dictionary.items():\n",
    "        dict_reverse_result[value] = key\n",
    "    return dict_reverse_result\n",
    "print (dict_reverse(mydict))"
   ]
  },
  {
   "cell_type": "markdown",
   "id": "b4b4e426",
   "metadata": {},
   "source": [
    "# Exercise 03\n",
    "Define a function that creates a dictionary of the first n fibonacci numbers as values paired with their indices as keys. "
   ]
  },
  {
   "cell_type": "code",
   "execution_count": 5,
   "id": "7845b5a4",
   "metadata": {},
   "outputs": [
    {
     "name": "stdout",
     "output_type": "stream",
     "text": [
      "How many numbers of fibonacci numbers to generate: 15\n",
      "{0: 0, 1: 1, 2: 1, 3: 2, 4: 3, 5: 5, 6: 8, 7: 13, 8: 21, 9: 34, 10: 55, 11: 89, 12: 144, 13: 233, 14: 377}\n"
     ]
    }
   ],
   "source": [
    "n = int(input(\"How many numbers of fibonacci numbers to generate: \"))\n",
    "fibonacci_dict = {}\n",
    "def fibonacci(n):\n",
    "    n1 = 0\n",
    "    n2 = 1\n",
    "    for i in range (n):\n",
    "        fibonacci_dict[i] = n1\n",
    "        a = n1 + n2\n",
    "        n1 = n2\n",
    "        n2 = a\n",
    "    return fibonacci_dict\n",
    "print(fibonacci(n))"
   ]
  },
  {
   "cell_type": "code",
   "execution_count": null,
   "id": "0a73f377",
   "metadata": {},
   "outputs": [],
   "source": []
  }
 ],
 "metadata": {
  "kernelspec": {
   "display_name": "Python 3 (ipykernel)",
   "language": "python",
   "name": "python3"
  },
  "language_info": {
   "codemirror_mode": {
    "name": "ipython",
    "version": 3
   },
   "file_extension": ".py",
   "mimetype": "text/x-python",
   "name": "python",
   "nbconvert_exporter": "python",
   "pygments_lexer": "ipython3",
   "version": "3.11.5"
  }
 },
 "nbformat": 4,
 "nbformat_minor": 5
}
